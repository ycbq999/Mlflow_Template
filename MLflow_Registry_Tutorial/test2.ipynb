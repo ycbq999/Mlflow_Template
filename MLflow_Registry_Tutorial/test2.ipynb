{
 "cells": [
  {
   "cell_type": "markdown",
   "metadata": {},
   "source": [
    "# Working With Models in a Registry\n",
    "\n",
    "For this to work, you'll need to point MLflow to a database and path. When running locally, you must do this otherwise you'll get into error conditions.\n",
    "\n",
    "Start a server with:\n",
    "\n",
    "    mlflow server --backend-store-uri sqlite:///mlflow.db --default-artifact-root /tmp/ --host 127.0.0.1:5000\n",
    "\n",
    "The value of --host must match the tracking uri in the next cell.\n",
    "\n"
   ]
  },
  {
   "cell_type": "code",
   "execution_count": 11,
   "metadata": {},
   "outputs": [],
   "source": [
    "import mlflow\n",
    "from mlflow import MlflowClient\n",
    "mlflow.set_tracking_uri(\"http://127.0.0.1:5000\")\n",
    "client = MlflowClient()\n",
    "\n"
   ]
  },
  {
   "cell_type": "code",
   "execution_count": 12,
   "metadata": {},
   "outputs": [
    {
     "data": {
      "text/plain": [
       "<RegisteredModel: creation_timestamp=1699603667487, description='', last_updated_timestamp=1699603667487, latest_versions=[], name='t5-onnx', tags={}>"
      ]
     },
     "execution_count": 12,
     "metadata": {},
     "output_type": "execute_result"
    }
   ],
   "source": [
    "\n",
    "# Create a new registered model\n",
    "# this model must not exist already\n",
    "client.create_registered_model(\"t5-onnx\")"
   ]
  },
  {
   "cell_type": "code",
   "execution_count": 13,
   "metadata": {},
   "outputs": [],
   "source": [
    "# Delete a registered model\n",
    "client.delete_registered_model(\"t5-onnx\")"
   ]
  },
  {
   "cell_type": "code",
   "execution_count": 16,
   "metadata": {},
   "outputs": [],
   "source": [
    "# This should fail if there is no previous version created\n",
    "client.update_model_version(\n",
    "    name = \"t5-small-summarizer\",\n",
    "    version = 1,\n",
    "    description = \"This is the T5 model in an ONNX version 1.6 using Opset 12\"\n",
    ")"
   ]
  },
  {
   "cell_type": "code",
   "execution_count": 17,
   "metadata": {},
   "outputs": [],
   "source": [
    "client.delete_registered_model(\"t5-small-summarizer\")"
   ]
  }
 ],
 "metadata": {
  "kernelspec": {
   "display_name": "mlflow",
   "language": "python",
   "name": "python3"
  },
  "language_info": {
   "codemirror_mode": {
    "name": "ipython",
    "version": 3
   },
   "file_extension": ".py",
   "mimetype": "text/x-python",
   "name": "python",
   "nbconvert_exporter": "python",
   "pygments_lexer": "ipython3",
   "version": "3.10.4"
  }
 },
 "nbformat": 4,
 "nbformat_minor": 2
}
